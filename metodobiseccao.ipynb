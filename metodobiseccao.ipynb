{
  "nbformat": 4,
  "nbformat_minor": 0,
  "metadata": {
    "colab": {
      "name": "metodobiseccao.ipynb",
      "version": "0.3.2",
      "provenance": [],
      "include_colab_link": true
    },
    "kernelspec": {
      "name": "python3",
      "display_name": "Python 3"
    }
  },
  "cells": [
    {
      "cell_type": "markdown",
      "metadata": {
        "id": "view-in-github",
        "colab_type": "text"
      },
      "source": [
        "<a href=\"https://colab.research.google.com/github/jose-gilberto/numerical-analysis/blob/master/metodobiseccao.ipynb\" target=\"_parent\"><img src=\"https://colab.research.google.com/assets/colab-badge.svg\" alt=\"Open In Colab\"/></a>"
      ]
    },
    {
      "cell_type": "markdown",
      "metadata": {
        "id": "4MnKXlTa0vD3",
        "colab_type": "text"
      },
      "source": [
        "### Importando as bibliotecas NumPy e Matplotlib"
      ]
    },
    {
      "cell_type": "code",
      "metadata": {
        "id": "hntoM8GQrY2f",
        "colab_type": "code",
        "colab": {}
      },
      "source": [
        "import numpy as np\n",
        "import matplotlib.pyplot as plt"
      ],
      "execution_count": 0,
      "outputs": []
    },
    {
      "cell_type": "markdown",
      "metadata": {
        "id": "NZLEGAeczXxS",
        "colab_type": "text"
      },
      "source": [
        "### Plotando a função `f(x) = x^2 - 3` e o eixo x"
      ]
    },
    {
      "cell_type": "code",
      "metadata": {
        "id": "A9FZfJqHreoI",
        "colab_type": "code",
        "colab": {
          "base_uri": "https://localhost:8080/",
          "height": 269
        },
        "outputId": "4025590d-1e57-4373-efb0-89e71474430f"
      },
      "source": [
        "x = np.array(range(10))\n",
        "y = np.sqrt(x)\n",
        "\n",
        "plt.plot(y, x - 3, label=\"Equation\")\n",
        "plt.plot(x, x * 0, label=\"X axis\")\n",
        "plt.legend(loc=\"upper left\")\n",
        "plt.show()"
      ],
      "execution_count": 4,
      "outputs": [
        {
          "output_type": "display_data",
          "data": {
            "image/png": "[encoded data removed]",
            "text/plain": [
              "<Figure size 432x288 with 1 Axes>"
            ]
          },
          "metadata": {
            "tags": []
          }
        }
      ]
    },
    {
      "cell_type": "markdown",
      "metadata": {
        "id": "_YQmWMwQz1ig",
        "colab_type": "text"
      },
      "source": [
        "### Definindo a função `f(x)`"
      ]
    },
    {
      "cell_type": "code",
      "metadata": {
        "id": "9MuGKVclsSx3",
        "colab_type": "code",
        "colab": {}
      },
      "source": [
        "def f(x):\n",
        "  return x ** 2 - 3"
      ],
      "execution_count": 0,
      "outputs": []
    },
    {
      "cell_type": "markdown",
      "metadata": {
        "id": "AjKZctgXz785",
        "colab_type": "text"
      },
      "source": [
        "### Definindo as variáveis de entrada do método\n",
        "* [a, b] - limite inferior e superior\n",
        "* [nmax, i] - limite de iterações e número de iterações inicial\n",
        "* epsilon - Taxa de erro (tolerância)"
      ]
    },
    {
      "cell_type": "code",
      "metadata": {
        "id": "sWbfuMmYsePI",
        "colab_type": "code",
        "colab": {}
      },
      "source": [
        "a, b, nmax, i, epsilon = 1.0, 2.0, 100, 0, 0.01\n",
        "fa = f(a)"
      ],
      "execution_count": 0,
      "outputs": []
    },
    {
      "cell_type": "markdown",
      "metadata": {
        "id": "8_LJxp8C0WMg",
        "colab_type": "text"
      },
      "source": [
        "### Iniciando as iterações do método"
      ]
    },
    {
      "cell_type": "code",
      "metadata": {
        "id": "-Sjh5Qjnsz8w",
        "colab_type": "code",
        "colab": {
          "base_uri": "https://localhost:8080/",
          "height": 34
        },
        "outputId": "2edbcd81-d1cb-4797-b9da-dc23b6f2018b"
      },
      "source": [
        "while (i <= nmax):\n",
        "  p = a + (b - a)/2\n",
        "  fp = f(p)\n",
        "  \n",
        "  if (fp is 0) or ((b - a)/2 < epsilon):\n",
        "    print('Procedure completed successfully, the result is {}'.format(p))\n",
        "    break\n",
        "   \n",
        "  i = i + 1\n",
        "  \n",
        "  if fa * fp > 0:\n",
        "    a = p\n",
        "  else:\n",
        "    b = p\n",
        "\n",
        "if i > nmax:\n",
        "  print('Method failed after NMAX iterations, NMAX = {}'.format(NMAX))\n",
        "  print('The procedure was unsuccessful.')"
      ],
      "execution_count": 9,
      "outputs": [
        {
          "output_type": "stream",
          "text": [
            "Procedure completed successfully, the result is 1.7265625\n"
          ],
          "name": "stdout"
        }
      ]
    },
    {
      "cell_type": "markdown",
      "metadata": {
        "id": "zPqKxGiP0aug",
        "colab_type": "text"
      },
      "source": [
        "### Plotando o resultado do método junto ao gráfico da função e o eixo X"
      ]
    },
    {
      "cell_type": "code",
      "metadata": {
        "id": "IEni8ak0tqjP",
        "colab_type": "code",
        "colab": {
          "base_uri": "https://localhost:8080/",
          "height": 269
        },
        "outputId": "84618233-4342-488b-ee7d-289d269f5051"
      },
      "source": [
        "plt.plot(y, x - 3, label=\"Equation\")\n",
        "plt.plot(x, x * 0, label=\"X axis\")\n",
        "plt.plot([p], [0], label=\"p\", marker=\"o\")\n",
        "plt.legend(loc=\"upper left\")\n",
        "plt.show()"
      ],
      "execution_count": 11,
      "outputs": [
        {
          "output_type": "display_data",
          "data": {
            "image/png": "[encoded data removed]",
            "text/plain": [
              "<Figure size 432x288 with 1 Axes>"
            ]
          },
          "metadata": {
            "tags": []
          }
        }
      ]
    },
    {
      "cell_type": "markdown",
      "metadata": {
        "id": "7hnbwzrv0icX",
        "colab_type": "text"
      },
      "source": [
        "### Visualização amplificada da função e do resultado"
      ]
    },
    {
      "cell_type": "code",
      "metadata": {
        "id": "kQqmFsxlvl7J",
        "colab_type": "code",
        "colab": {
          "base_uri": "https://localhost:8080/",
          "height": 269
        },
        "outputId": "56170fe3-c0be-4378-8677-e0853bfe0e10"
      },
      "source": [
        "plt.plot(y, x - 3, label=\"Equation\")\n",
        "plt.plot(x, x * 0, label=\"X axis\")\n",
        "plt.plot([p], [0], label=\"p\", marker=\"o\")\n",
        "plt.legend(loc=\"upper left\")\n",
        "plt.axis([1.65,1.75,-0.5,0.5])\n",
        "plt.show()"
      ],
      "execution_count": 21,
      "outputs": [
        {
          "output_type": "display_data",
          "data": {
            "image/png": "[encoded data removed]",
            "text/plain": [
              "<Figure size 432x288 with 1 Axes>"
            ]
          },
          "metadata": {
            "tags": []
          }
        }
      ]
    }
  ]
}