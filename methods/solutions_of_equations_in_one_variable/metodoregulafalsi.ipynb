{
  "nbformat": 4,
  "nbformat_minor": 0,
  "metadata": {
    "colab": {
      "name": "regulafalsi.ipynb",
      "version": "0.3.2",
      "provenance": []
    },
    "kernelspec": {
      "name": "python3",
      "display_name": "Python 3"
    }
  },
  "cells": [
    {
      "cell_type": "markdown",
      "metadata": {
        "id": "YefXmD6eqsA7",
        "colab_type": "text"
      },
      "source": [
        "### Importando as bibliotecas Numpy e Matplotlib"
      ]
    },
    {
      "cell_type": "code",
      "metadata": {
        "id": "r5p8bhNYxZwD",
        "colab_type": "code",
        "colab": {}
      },
      "source": [
        "import matplotlib.pyplot as plt\n",
        "import numpy as np\n",
        "import math"
      ],
      "execution_count": 0,
      "outputs": []
    },
    {
      "cell_type": "markdown",
      "metadata": {
        "id": "JQs7CQbVqw1d",
        "colab_type": "text"
      },
      "source": [
        "### Plotando a função `f(x) = x^2 - 3` e o eixo x"
      ]
    },
    {
      "cell_type": "code",
      "metadata": {
        "id": "hiPsqGK0qoyG",
        "colab_type": "code",
        "outputId": "ef063e6f-32b7-4dc4-ed44-0f1c62dfe4a7",
        "colab": {
          "base_uri": "https://localhost:8080/",
          "height": 269
        }
      },
      "source": [
        "x = np.array(range(10))\n",
        "y = np.sqrt(x)\n",
        "\n",
        "plt.plot(y, x - 3, label=\"Equation\")\n",
        "plt.plot(x, x * 0, label=\"X axis\")\n",
        "plt.legend(loc=\"upper left\")\n",
        "plt.show()"
      ],
      "execution_count": 5,
      "outputs": [
        {
          "output_type": "display_data",
          "data": {
            "image/png": "[encoded data removed]",
            "text/plain": [
              "<Figure size 432x288 with 1 Axes>"
            ]
          },
          "metadata": {
            "tags": []
          }
        }
      ]
    },
    {
      "cell_type": "markdown",
      "metadata": {
        "id": "3f4zuluBrbn8",
        "colab_type": "text"
      },
      "source": [
        "### Definindo a função `f(x) = x^2 - 3`"
      ]
    },
    {
      "cell_type": "code",
      "metadata": {
        "id": "wCeuAxgMxiLO",
        "colab_type": "code",
        "colab": {}
      },
      "source": [
        "def f(x):\n",
        "  return x**2 - 3"
      ],
      "execution_count": 0,
      "outputs": []
    },
    {
      "cell_type": "markdown",
      "metadata": {
        "id": "xAH2eh6i8Kig",
        "colab_type": "text"
      },
      "source": [
        "### Definindo as variáveis de entrada do método\n",
        "* epsilon - Taxa de tolerância (erro)\n",
        "* i, nmax - Número inicial e máximo de iterações\n",
        "* x0, x1 - Intervalo [a,b] para o método"
      ]
    },
    {
      "cell_type": "code",
      "metadata": {
        "id": "kKT4jFTrxnWH",
        "colab_type": "code",
        "colab": {}
      },
      "source": [
        "epsilon, i, nmax, x0, x1 = 0.0005, 0, 1000, 1, 2"
      ],
      "execution_count": 0,
      "outputs": []
    },
    {
      "cell_type": "markdown",
      "metadata": {
        "id": "h-LEjKp28eZo",
        "colab_type": "text"
      },
      "source": [
        "### Definindo as funções f(a) e f(b)\n",
        "* k0 - f(a)\n",
        "* k1 - f(b)"
      ]
    },
    {
      "cell_type": "code",
      "metadata": {
        "id": "RzoINC_gx0Yw",
        "colab_type": "code",
        "colab": {}
      },
      "source": [
        "k0, k1 = f(x0), f(x1)"
      ],
      "execution_count": 0,
      "outputs": []
    },
    {
      "cell_type": "markdown",
      "metadata": {
        "id": "b6yw_ewX9Lrh",
        "colab_type": "text"
      },
      "source": [
        "### Iniciando as iterações do método"
      ]
    },
    {
      "cell_type": "code",
      "metadata": {
        "id": "dCByGowTx_24",
        "colab_type": "code",
        "outputId": "68cea384-ba6a-45e6-c400-bbaf6a164424",
        "colab": {
          "base_uri": "https://localhost:8080/",
          "height": 51
        }
      },
      "source": [
        "while (i <= nmax):\n",
        "  # b - ( fb * ((b - a)/( fb- fa)) )\n",
        "  p = x1 - k1 * ((x1 - x0)/(k1 - k0))\n",
        "  print(p)\n",
        "  \n",
        "  if abs(p - x1) < epsilon:\n",
        "    print(i)\n",
        "    break\n",
        "    \n",
        "  i = i + 1\n",
        "  p = f(p)\n",
        "  \n",
        "  if p * k1 < 0:\n",
        "    x0 = x1\n",
        "    k0 = k1\n",
        "    \n",
        "  x1 = p\n",
        "  k1 = k\n",
        "\n",
        "if (i > nmax):\n",
        "  print('O metodo falhou após {} iterações'.format(i))\n",
        "  "
      ],
      "execution_count": 13,
      "outputs": [
        {
          "output_type": "stream",
          "text": [
            "1.7320261437908497\n",
            "3\n"
          ],
          "name": "stdout"
        }
      ]
    },
    {
      "cell_type": "markdown",
      "metadata": {
        "id": "CDRjoyhU9X4f",
        "colab_type": "text"
      },
      "source": [
        "### Plotando o resultado do método junto ao gráfico da função e o eixo X"
      ]
    },
    {
      "cell_type": "code",
      "metadata": {
        "id": "yW53gxl15n7v",
        "colab_type": "code",
        "colab": {
          "base_uri": "https://localhost:8080/",
          "height": 269
        },
        "outputId": "cc0d3cb3-0d30-4a2a-b07c-a748b6ef105a"
      },
      "source": [
        "x = np.array(range(10))\n",
        "y = np.sqrt(x)\n",
        "\n",
        "plt.plot(y, x - 3, label=\"Equation\")\n",
        "plt.plot(x, x * 0, label=\"X axis\")\n",
        "plt.plot([p], [0], marker=\"o\", label=\"p\")\n",
        "plt.legend(loc=\"upper left\")\n",
        "plt.show()"
      ],
      "execution_count": 17,
      "outputs": [
        {
          "output_type": "display_data",
          "data": {
            "image/png": "[encoded data removed]",
            "text/plain": [
              "<Figure size 432x288 with 1 Axes>"
            ]
          },
          "metadata": {
            "tags": []
          }
        }
      ]
    },
    {
      "cell_type": "markdown",
      "metadata": {
        "id": "XKZ9jMpY9b9X",
        "colab_type": "text"
      },
      "source": [
        "### Visualização amplificada da função e do resultado"
      ]
    },
    {
      "cell_type": "code",
      "metadata": {
        "id": "Mz7OfXE36M5Y",
        "colab_type": "code",
        "colab": {
          "base_uri": "https://localhost:8080/",
          "height": 269
        },
        "outputId": "bd405a5e-bd0b-4c34-d490-50583edf0bf8"
      },
      "source": [
        "x = np.array(range(10))\n",
        "y = np.sqrt(x)\n",
        "\n",
        "plt.plot(y, x - 3, label=\"Equation\")\n",
        "plt.plot(x, x * 0, label=\"X axis\")\n",
        "plt.plot([p], [0], marker=\"o\", label=\"p\")\n",
        "plt.legend(loc=\"upper left\")\n",
        "plt.axis([1.7,1.8, -.05, .05])\n",
        "plt.show()"
      ],
      "execution_count": 21,
      "outputs": [
        {
          "output_type": "display_data",
          "data": {
            "image/png": "[encoded data removed]",
            "text/plain": [
              "<Figure size 432x288 with 1 Axes>"
            ]
          },
          "metadata": {
            "tags": []
          }
        }
      ]
    }
  ]
}